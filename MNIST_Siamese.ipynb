{
  "nbformat": 4,
  "nbformat_minor": 0,
  "metadata": {
    "colab": {
      "name": "MNIST_Siamese.ipynb",
      "provenance": [],
      "toc_visible": true,
      "authorship_tag": "ABX9TyMVPHMnD8D0cqvUFAX5e8xk",
      "include_colab_link": true
    },
    "kernelspec": {
      "name": "python3",
      "display_name": "Python 3"
    }
  },
  "cells": [
    {
      "cell_type": "markdown",
      "metadata": {
        "id": "view-in-github",
        "colab_type": "text"
      },
      "source": [
        "<a href=\"https://colab.research.google.com/github/Lucifer0190/Siamese/blob/main/MNIST_Siamese.ipynb\" target=\"_parent\"><img src=\"https://colab.research.google.com/assets/colab-badge.svg\" alt=\"Open In Colab\"/></a>"
      ]
    },
    {
      "cell_type": "markdown",
      "metadata": {
        "id": "kpBa_yZReBor"
      },
      "source": [
        "# Applying Siamese Neural Network on MNIST Handwritten Digits Dataset"
      ]
    },
    {
      "cell_type": "code",
      "metadata": {
        "id": "tg6opDpwg3ba"
      },
      "source": [
        "import numpy as np\n",
        "import random\n",
        "import tensorflow as tf\n",
        "import tensorflow.keras.layers as Layers\n",
        "import tensorflow.keras.models as Models\n",
        "import tensorflow.keras.losses as Losses\n",
        "import tensorflow.keras.optimizers as Optimizers\n",
        "import tensorflow.keras.activations as Activations\n",
        "import tensorflow.keras.backend as K"
      ],
      "execution_count": 1,
      "outputs": []
    },
    {
      "cell_type": "code",
      "metadata": {
        "id": "g01gGS1Io38F"
      },
      "source": [
        "(x_train, y_train), (x_test, y_test) = tf.keras.datasets.mnist.load_data()\n",
        "x_train = x_train.astype('float32')\n",
        "x_test = x_test.astype('float32')\n",
        "x_train /= 255\n",
        "x_test /= 255"
      ],
      "execution_count": 2,
      "outputs": []
    },
    {
      "cell_type": "code",
      "metadata": {
        "id": "a3Ca84Wahjdr"
      },
      "source": [
        "classes = 10\n",
        "input_shape = x_train.shape[1:]\n",
        "epochs = 5"
      ],
      "execution_count": 3,
      "outputs": []
    },
    {
      "cell_type": "code",
      "metadata": {
        "id": "5LVLyTcvjNg8"
      },
      "source": [
        "def euclidean_distance(vectors):\n",
        "  x, y = vectors\n",
        "  sum_square = K.sum(K.square(x - y), axis=1, keepdims=True)\n",
        "  return K.sqrt(K.maximum(sum_square, K.epsilon()))\n",
        "\n",
        "def eucl_dist_output_shape(shapes):\n",
        "    shape1, shape2 = shapes\n",
        "    return (shape1[0], 1)"
      ],
      "execution_count": 4,
      "outputs": []
    },
    {
      "cell_type": "markdown",
      "metadata": {
        "id": "DO7e1D0Gj5Kt"
      },
      "source": [
        "## Custom Loss functions"
      ]
    },
    {
      "cell_type": "code",
      "metadata": {
        "id": "sQw1fqIVjpE9"
      },
      "source": [
        "def contrastive_loss(true_label,pred_label):\n",
        "  margin = 1\n",
        "  square_pred = K.square(pred_label)\n",
        "  margin_square = K.square(K.maximum(margin - pred_label, 0))\n",
        "  return K.mean(true_label * square_pred + (1 - true_label) * margin_square)"
      ],
      "execution_count": 5,
      "outputs": []
    },
    {
      "cell_type": "markdown",
      "metadata": {
        "id": "Y6uSM87blLUo"
      },
      "source": [
        "## Pairs creation for providing input in the network"
      ]
    },
    {
      "cell_type": "code",
      "metadata": {
        "id": "tioW4eT9lBum"
      },
      "source": [
        "def create_pairs(x, digit_indices):\n",
        "  pairs = []\n",
        "  labels = []\n",
        "  n = min([len(digit_indices[d]) for d in range(classes)]) - 1\n",
        "  for d in range(classes):\n",
        "      for i in range(n):\n",
        "          z1, z2 = digit_indices[d][i], digit_indices[d][i + 1]\n",
        "          pairs += [[x[z1], x[z2]]]\n",
        "          inc = random.randrange(1, classes)\n",
        "          dn = (d + inc) % classes\n",
        "          z1, z2 = digit_indices[d][i], digit_indices[dn][i]\n",
        "          pairs += [[x[z1], x[z2]]]\n",
        "          labels += [1.0, 0.0]\n",
        "  return np.array(pairs), np.array(labels)"
      ],
      "execution_count": 6,
      "outputs": []
    },
    {
      "cell_type": "markdown",
      "metadata": {
        "id": "-y22ffssqwrd"
      },
      "source": [
        "## Accuracy Calculation"
      ]
    },
    {
      "cell_type": "code",
      "metadata": {
        "id": "DcINEjlXmNS0"
      },
      "source": [
        "def metrics_accuracy(true_label,pred_label):\n",
        "  return K.mean(K.equal(true_label,K.cast(pred_label<0.5,true_label.dtype)))"
      ],
      "execution_count": 7,
      "outputs": []
    },
    {
      "cell_type": "code",
      "metadata": {
        "id": "jJrjYIYnnZSk"
      },
      "source": [
        "def compute_accuracy(true_label,pred_label):\n",
        "  pred = pred_label.ravel() < 0.5\n",
        "  return np.mean(pred == true_label)"
      ],
      "execution_count": 8,
      "outputs": []
    },
    {
      "cell_type": "markdown",
      "metadata": {
        "id": "lZU_hANTn72k"
      },
      "source": [
        "## Model Creation"
      ]
    },
    {
      "cell_type": "code",
      "metadata": {
        "id": "QWmSik8sn6zU"
      },
      "source": [
        "def create_backbone(input_shape):\n",
        "  input = Layers.Input(shape=input_shape)\n",
        "  x = Layers.Flatten()(input)\n",
        "  x = Layers.Dense(512,activation=Activations.relu)(x)\n",
        "  x = Layers.Dropout(0.1)(x)\n",
        "  x = Layers.Dense(128,activation=Activations.relu)(x)\n",
        "  x = Layers.Dropout(0.1)(x)\n",
        "  x = Layers.Dense(128,activation=Activations.relu)(x)\n",
        "  return Models.Model(input,x)"
      ],
      "execution_count": 9,
      "outputs": []
    },
    {
      "cell_type": "code",
      "metadata": {
        "id": "WoL-_tOqowFw"
      },
      "source": [
        "backbone = create_backbone(input_shape)\n",
        "\n",
        "input_a = Layers.Input(shape=input_shape)\n",
        "input_b = Layers.Input(shape=input_shape)\n",
        "\n",
        "features_a = backbone(input_a)\n",
        "features_b = backbone(input_b)"
      ],
      "execution_count": 10,
      "outputs": []
    },
    {
      "cell_type": "code",
      "metadata": {
        "id": "5YSkroj6pm6A"
      },
      "source": [
        "distance = Layers.Lambda(euclidean_distance,output_shape = eucl_dist_output_shape)([features_a,features_b])"
      ],
      "execution_count": 11,
      "outputs": []
    },
    {
      "cell_type": "code",
      "metadata": {
        "id": "mi6y3fTkqPCX",
        "outputId": "7042aa3f-856a-4d59-dfb5-94330eebfd0c",
        "colab": {
          "base_uri": "https://localhost:8080/",
          "height": 323
        }
      },
      "source": [
        "model = Models.Model([input_a,input_b], distance)\n",
        "model.summary()"
      ],
      "execution_count": 12,
      "outputs": [
        {
          "output_type": "stream",
          "text": [
            "Model: \"functional_3\"\n",
            "__________________________________________________________________________________________________\n",
            "Layer (type)                    Output Shape         Param #     Connected to                     \n",
            "==================================================================================================\n",
            "input_2 (InputLayer)            [(None, 28, 28)]     0                                            \n",
            "__________________________________________________________________________________________________\n",
            "input_3 (InputLayer)            [(None, 28, 28)]     0                                            \n",
            "__________________________________________________________________________________________________\n",
            "functional_1 (Functional)       (None, 128)          484096      input_2[0][0]                    \n",
            "                                                                 input_3[0][0]                    \n",
            "__________________________________________________________________________________________________\n",
            "lambda (Lambda)                 (None, 1)            0           functional_1[0][0]               \n",
            "                                                                 functional_1[1][0]               \n",
            "==================================================================================================\n",
            "Total params: 484,096\n",
            "Trainable params: 484,096\n",
            "Non-trainable params: 0\n",
            "__________________________________________________________________________________________________\n"
          ],
          "name": "stdout"
        }
      ]
    },
    {
      "cell_type": "code",
      "metadata": {
        "id": "HLcp82m5scE2"
      },
      "source": [
        "digit_indices = [np.where(y_train == i)[0] for i in range(classes)]\n",
        "tr_pairs, tr_y = create_pairs(x_train, digit_indices)\n",
        "\n",
        "digit_indices = [np.where(y_test == i)[0] for i in range(classes)]\n",
        "te_pairs, te_y = create_pairs(x_test, digit_indices)"
      ],
      "execution_count": 13,
      "outputs": []
    },
    {
      "cell_type": "markdown",
      "metadata": {
        "id": "ujTMEj3AsgEt"
      },
      "source": [
        "## Training"
      ]
    },
    {
      "cell_type": "code",
      "metadata": {
        "id": "tA74pLEisdaY"
      },
      "source": [
        "model.compile(loss=contrastive_loss,\n",
        "              optimizer=Optimizers.RMSprop(),\n",
        "              metrics=[metrics_accuracy])"
      ],
      "execution_count": 14,
      "outputs": []
    },
    {
      "cell_type": "code",
      "metadata": {
        "id": "e4yRmrXbszyh",
        "outputId": "2b40cd07-dcc9-468e-93db-82fcd3c7bb05",
        "colab": {
          "base_uri": "https://localhost:8080/",
          "height": 204
        }
      },
      "source": [
        "model.fit([tr_pairs[:, 0], tr_pairs[:, 1]], tr_y,\n",
        "          batch_size=128,\n",
        "          epochs=epochs,\n",
        "          validation_data=([te_pairs[:, 0], te_pairs[:, 1]], te_y))"
      ],
      "execution_count": 15,
      "outputs": [
        {
          "output_type": "stream",
          "text": [
            "Epoch 1/5\n",
            "847/847 [==============================] - 17s 20ms/step - loss: 0.0800 - metrics_accuracy: 0.9097 - val_loss: 0.0335 - val_metrics_accuracy: 0.9657\n",
            "Epoch 2/5\n",
            "847/847 [==============================] - 16s 19ms/step - loss: 0.0292 - metrics_accuracy: 0.9709 - val_loss: 0.0263 - val_metrics_accuracy: 0.9717\n",
            "Epoch 3/5\n",
            "847/847 [==============================] - 17s 20ms/step - loss: 0.0199 - metrics_accuracy: 0.9792 - val_loss: 0.0215 - val_metrics_accuracy: 0.9759\n",
            "Epoch 4/5\n",
            "847/847 [==============================] - 17s 20ms/step - loss: 0.0152 - metrics_accuracy: 0.9840 - val_loss: 0.0233 - val_metrics_accuracy: 0.9720\n",
            "Epoch 5/5\n",
            "847/847 [==============================] - 17s 20ms/step - loss: 0.0128 - metrics_accuracy: 0.9865 - val_loss: 0.0208 - val_metrics_accuracy: 0.9767\n"
          ],
          "name": "stdout"
        },
        {
          "output_type": "execute_result",
          "data": {
            "text/plain": [
              "<tensorflow.python.keras.callbacks.History at 0x7fc65a9b9fd0>"
            ]
          },
          "metadata": {
            "tags": []
          },
          "execution_count": 15
        }
      ]
    },
    {
      "cell_type": "markdown",
      "metadata": {
        "id": "WWtul2DwtSmd"
      },
      "source": [
        "## Compute final Accuracy"
      ]
    },
    {
      "cell_type": "code",
      "metadata": {
        "id": "YZ8bFftBtNtm"
      },
      "source": [
        "y_pred = model.predict([tr_pairs[:, 0], tr_pairs[:, 1]])\n",
        "tr_acc = compute_accuracy(tr_y, y_pred)\n",
        "y_pred = model.predict([te_pairs[:, 0], te_pairs[:, 1]])\n",
        "te_acc = compute_accuracy(te_y, y_pred)"
      ],
      "execution_count": 16,
      "outputs": []
    },
    {
      "cell_type": "code",
      "metadata": {
        "id": "TEyBrGIJtYy5",
        "outputId": "3c6f2171-ae5a-4f6e-d38e-1c1b7f80a394",
        "colab": {
          "base_uri": "https://localhost:8080/",
          "height": 51
        }
      },
      "source": [
        "print('Training Accuracy: %0.2f%%' % (100 * tr_acc))\n",
        "print('Testing Accuracy: %0.2f%%' % (100 * te_acc))"
      ],
      "execution_count": 17,
      "outputs": [
        {
          "output_type": "stream",
          "text": [
            "Training Accuracy: 99.15%\n",
            "Testing Accuracy: 97.65%\n"
          ],
          "name": "stdout"
        }
      ]
    }
  ]
}